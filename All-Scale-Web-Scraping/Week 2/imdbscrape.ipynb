{
 "cells": [
  {
   "cell_type": "code",
   "execution_count": 2,
   "metadata": {},
   "outputs": [
    {
     "name": "stdout",
     "output_type": "stream",
     "text": [
      "Requirement already satisfied: fake_useragent in /opt/anaconda3/lib/python3.12/site-packages (1.5.1)\n",
      "Requirement already satisfied: pandas in /opt/anaconda3/lib/python3.12/site-packages (2.2.2)\n",
      "Requirement already satisfied: numpy>=1.26.0 in /opt/anaconda3/lib/python3.12/site-packages (from pandas) (1.26.4)\n",
      "Requirement already satisfied: python-dateutil>=2.8.2 in /opt/anaconda3/lib/python3.12/site-packages (from pandas) (2.9.0.post0)\n",
      "Requirement already satisfied: pytz>=2020.1 in /opt/anaconda3/lib/python3.12/site-packages (from pandas) (2024.1)\n",
      "Requirement already satisfied: tzdata>=2022.7 in /opt/anaconda3/lib/python3.12/site-packages (from pandas) (2023.3)\n",
      "Requirement already satisfied: six>=1.5 in /opt/anaconda3/lib/python3.12/site-packages (from python-dateutil>=2.8.2->pandas) (1.16.0)\n",
      "Note: you may need to restart the kernel to use updated packages.\n"
     ]
    }
   ],
   "source": [
    "pip install fake_useragent pandas"
   ]
  },
  {
   "cell_type": "code",
   "execution_count": 3,
   "metadata": {},
   "outputs": [],
   "source": [
    "import requests\n",
    "from bs4 import BeautifulSoup\n",
    "from fake_useragent import UserAgent\n",
    "import pandas as pd"
   ]
  },
  {
   "cell_type": "code",
   "execution_count": 4,
   "metadata": {},
   "outputs": [
    {
     "data": {
      "text/plain": [
       "<Response [403]>"
      ]
     },
     "execution_count": 4,
     "metadata": {},
     "output_type": "execute_result"
    }
   ],
   "source": [
    "url = 'https://www.imdb.com/chart/boxoffice/?ref_=nv_ch_cht'\n",
    "page = requests.get(url)\n",
    "page\n"
   ]
  },
  {
   "cell_type": "code",
   "execution_count": 5,
   "metadata": {},
   "outputs": [
    {
     "name": "stdout",
     "output_type": "stream",
     "text": [
      "{'User-Agent': 'Mozilla/5.0 (Macintosh; Intel Mac OS X 13_6) AppleWebKit/605.1.15 (KHTML, like Gecko) Version/17.0 Safari/605.1.15'}\n",
      "{'User-Agent': 'Mozilla/5.0 (iPhone; CPU iPhone OS 17_3_1 like Mac OS X) AppleWebKit/605.1.15 (KHTML, like Gecko) Version/17.0 EdgiOS/121.2277.107 Mobile/15E148 Safari/605.1.15'}\n",
      "{'User-Agent': 'Mozilla/5.0 (Windows NT 10.0; Win64; x64) AppleWebKit/537.36 (KHTML, like Gecko) Chrome/122.0.0.0 Safari/537.36'}\n",
      "{'User-Agent': 'Mozilla/5.0 (Linux; Android 10; K) AppleWebKit/537.36 (KHTML, like Gecko) Chrome/122.0.0.0 Mobile Safari/537.36'}\n",
      "{'User-Agent': 'Mozilla/5.0 (iPhone; CPU iPhone OS 17_0 like Mac OS X) AppleWebKit/605.1.15 (KHTML, like Gecko) Version/17.0 Mobile/15E148 Safari/604.1 OPT/4.2.3'}\n",
      "{'User-Agent': 'Mozilla/5.0 (Windows NT 10.0; Win64; x64) AppleWebKit/537.36 (KHTML, like Gecko) Chrome/121.0.0.0 Safari/537.36 Edg/121.0.0.0'}\n",
      "{'User-Agent': 'Mozilla/5.0 (Windows NT 10.0; Win64; x64) AppleWebKit/537.36 (KHTML, like Gecko) Chrome/122.0.0.0 Safari/537.36'}\n",
      "{'User-Agent': 'Mozilla/5.0 (Windows NT 10.0; Win64; x64; rv:123.0) Gecko/20100101 Firefox/123.0'}\n",
      "{'User-Agent': 'Mozilla/5.0 (Windows NT 10.0; Win64; x64) AppleWebKit/537.36 (KHTML, like Gecko) Chrome/121.0.0.0 Safari/537.36 Edg/121.0.0.0'}\n",
      "{'User-Agent': 'Mozilla/5.0 (Windows NT 10.0; Win64; x64) AppleWebKit/537.36 (KHTML, like Gecko) Chrome/121.0.0.0 Safari/537.36 Edg/121.0.0.0 Unique/97.7.7286.70'}\n"
     ]
    }
   ],
   "source": [
    "for i in range(10):\n",
    "    ua = UserAgent()\n",
    "    userAgent = ua.random\n",
    "    headers = {'User-Agent': userAgent}\n",
    "    print(headers)"
   ]
  },
  {
   "cell_type": "code",
   "execution_count": 6,
   "metadata": {},
   "outputs": [],
   "source": [
    "url = 'https://www.imdb.com/chart/boxoffice/?ref_=nv_ch_cht'\n",
    "ua = UserAgent()\n",
    "userAgent = ua.random\n",
    "headers = {'User-Agent': userAgent}\n",
    "\n",
    "page = requests.get(url, headers = headers)\n",
    "soup = BeautifulSoup(page.content,'html.parser')"
   ]
  },
  {
   "cell_type": "code",
   "execution_count": 7,
   "metadata": {},
   "outputs": [
    {
     "data": {
      "text/html": [
       "<div>\n",
       "<style scoped>\n",
       "    .dataframe tbody tr th:only-of-type {\n",
       "        vertical-align: middle;\n",
       "    }\n",
       "\n",
       "    .dataframe tbody tr th {\n",
       "        vertical-align: top;\n",
       "    }\n",
       "\n",
       "    .dataframe thead th {\n",
       "        text-align: right;\n",
       "    }\n",
       "</style>\n",
       "<table border=\"1\" class=\"dataframe\">\n",
       "  <thead>\n",
       "    <tr style=\"text-align: right;\">\n",
       "      <th></th>\n",
       "      <th>title</th>\n",
       "      <th>number</th>\n",
       "      <th>rate_vote</th>\n",
       "    </tr>\n",
       "  </thead>\n",
       "  <tbody>\n",
       "    <tr>\n",
       "      <th>0</th>\n",
       "      <td>1. Venom: The Last Dance</td>\n",
       "      <td>Weekend Gross: $16MTotal Gross: $122MWeeks Rel...</td>\n",
       "      <td>6.2 (40K)</td>\n",
       "    </tr>\n",
       "    <tr>\n",
       "      <th>1</th>\n",
       "      <td>2. Heretic</td>\n",
       "      <td>Weekend Gross: $11MTotal Gross: $17MWeeks Rele...</td>\n",
       "      <td>7.3 (12K)</td>\n",
       "    </tr>\n",
       "    <tr>\n",
       "      <th>2</th>\n",
       "      <td>3. The Best Christmas Pageant Ever</td>\n",
       "      <td>Weekend Gross: $11MTotal Gross: $15MWeeks Rele...</td>\n",
       "      <td>7.4 (948)</td>\n",
       "    </tr>\n",
       "    <tr>\n",
       "      <th>3</th>\n",
       "      <td>4. The Wild Robot</td>\n",
       "      <td>Weekend Gross: $6.6MTotal Gross: $134MWeeks Re...</td>\n",
       "      <td>8.3 (77K)</td>\n",
       "    </tr>\n",
       "    <tr>\n",
       "      <th>4</th>\n",
       "      <td>5. Smile 2</td>\n",
       "      <td>Weekend Gross: $5.1MTotal Gross: $63MWeeks Rel...</td>\n",
       "      <td>7.1 (34K)</td>\n",
       "    </tr>\n",
       "    <tr>\n",
       "      <th>5</th>\n",
       "      <td>6. Conclave</td>\n",
       "      <td>Weekend Gross: $4.1MTotal Gross: $24MWeeks Rel...</td>\n",
       "      <td>7.6 (9.1K)</td>\n",
       "    </tr>\n",
       "    <tr>\n",
       "      <th>6</th>\n",
       "      <td>7. Anora</td>\n",
       "      <td>Weekend Gross: $2.5MTotal Gross: $8.7MWeeks Re...</td>\n",
       "      <td>8.2 (17K)</td>\n",
       "    </tr>\n",
       "    <tr>\n",
       "      <th>7</th>\n",
       "      <td>8. Here</td>\n",
       "      <td>Weekend Gross: $2.4MTotal Gross: $11MWeeks Rel...</td>\n",
       "      <td>6.3 (2.7K)</td>\n",
       "    </tr>\n",
       "    <tr>\n",
       "      <th>8</th>\n",
       "      <td>9. We Live in Time</td>\n",
       "      <td>Weekend Gross: $2.2MTotal Gross: $23MWeeks Rel...</td>\n",
       "      <td>7.3 (8.5K)</td>\n",
       "    </tr>\n",
       "    <tr>\n",
       "      <th>9</th>\n",
       "      <td>10. Terrifier 3</td>\n",
       "      <td>Weekend Gross: $1.7MTotal Gross: $54MWeeks Rel...</td>\n",
       "      <td>6.5 (31K)</td>\n",
       "    </tr>\n",
       "  </tbody>\n",
       "</table>\n",
       "</div>"
      ],
      "text/plain": [
       "                                title  \\\n",
       "0            1. Venom: The Last Dance   \n",
       "1                          2. Heretic   \n",
       "2  3. The Best Christmas Pageant Ever   \n",
       "3                   4. The Wild Robot   \n",
       "4                          5. Smile 2   \n",
       "5                         6. Conclave   \n",
       "6                            7. Anora   \n",
       "7                             8. Here   \n",
       "8                  9. We Live in Time   \n",
       "9                     10. Terrifier 3   \n",
       "\n",
       "                                              number   rate_vote  \n",
       "0  Weekend Gross: $16MTotal Gross: $122MWeeks Rel...   6.2 (40K)  \n",
       "1  Weekend Gross: $11MTotal Gross: $17MWeeks Rele...   7.3 (12K)  \n",
       "2  Weekend Gross: $11MTotal Gross: $15MWeeks Rele...   7.4 (948)  \n",
       "3  Weekend Gross: $6.6MTotal Gross: $134MWeeks Re...   8.3 (77K)  \n",
       "4  Weekend Gross: $5.1MTotal Gross: $63MWeeks Rel...   7.1 (34K)  \n",
       "5  Weekend Gross: $4.1MTotal Gross: $24MWeeks Rel...  7.6 (9.1K)  \n",
       "6  Weekend Gross: $2.5MTotal Gross: $8.7MWeeks Re...   8.2 (17K)  \n",
       "7  Weekend Gross: $2.4MTotal Gross: $11MWeeks Rel...  6.3 (2.7K)  \n",
       "8  Weekend Gross: $2.2MTotal Gross: $23MWeeks Rel...  7.3 (8.5K)  \n",
       "9  Weekend Gross: $1.7MTotal Gross: $54MWeeks Rel...   6.5 (31K)  "
      ]
     },
     "execution_count": 7,
     "metadata": {},
     "output_type": "execute_result"
    }
   ],
   "source": [
    "movie_box = soup.find_all('div', class_ = \"ipc-metadata-list-summary-item__c\")\n",
    "\n",
    "titles = []\n",
    "numbers = []\n",
    "rate_votes = []\n",
    "\n",
    "for box in movie_box:\n",
    "\n",
    "    #titles\n",
    "    if box.find('h3', class_ = \"ipc-title__text\") is not None:\n",
    "        title = box.find('h3', class_ = \"ipc-title__text\")\n",
    "        titles.append(title.text)\n",
    "    else:\n",
    "        titles.append('None')\n",
    "\n",
    "    #Numbers\n",
    "    if box.find('ul', attrs={'data-testid':'title-metadata-box-office-data-container'}) is not None:\n",
    "        number = box.find('ul', attrs={'data-testid':'title-metadata-box-office-data-container'})\n",
    "        numbers.append(number.text)\n",
    "    else:\n",
    "        numbers.append('None')\n",
    "\n",
    "    #rate_votes\n",
    "    if box.find('span', attrs={'data-testid':'ratingGroup--imdb-rating'}) is not None:\n",
    "        rate_vote = box.find('span', attrs={'data-testid':'ratingGroup--imdb-rating'})\n",
    "        rate_votes.append(rate_vote.text)\n",
    "    else:\n",
    "        rate_votes.append('None')\n",
    "\n",
    "\n",
    "\n",
    "movie_df = pd.DataFrame({\n",
    "    'title':titles,\n",
    "    'number': numbers,\n",
    "    'rate_vote':rate_votes\n",
    "})\n",
    "movie_df"
   ]
  },
  {
   "cell_type": "code",
   "execution_count": 8,
   "metadata": {},
   "outputs": [],
   "source": [
    "movie_df['number'] = movie_df['number'].str.replace('Weekend Gross: ', '').str.replace('Total Gross: ', '|').str.replace('Weeks Released: ', '|')\n",
    "movie_df[['weekend gross', 'total gross', 'weeks released']] = movie_df['number'].str.split('|', expand=True)\n",
    "\n",
    "movie_df[['rating', 'vote_count']] = movie_df['rate_vote'].str.split('(', expand=True)\n",
    "movie_df['vote_count'] = movie_df['vote_count'].str.replace(')','')\n",
    "# # Drop the original 'rate_vote'\n",
    "movie_df.drop(['number','rate_vote'], axis=1, inplace=True)\n",
    "movie_df.to_csv('movie_data.csv')"
   ]
  }
 ],
 "metadata": {
  "kernelspec": {
   "display_name": "base",
   "language": "python",
   "name": "python3"
  },
  "language_info": {
   "codemirror_mode": {
    "name": "ipython",
    "version": 3
   },
   "file_extension": ".py",
   "mimetype": "text/x-python",
   "name": "python",
   "nbconvert_exporter": "python",
   "pygments_lexer": "ipython3",
   "version": "3.12.7"
  }
 },
 "nbformat": 4,
 "nbformat_minor": 2
}
