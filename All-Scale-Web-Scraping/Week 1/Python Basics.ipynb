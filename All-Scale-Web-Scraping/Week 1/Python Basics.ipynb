{
 "cells": [
  {
   "cell_type": "markdown",
   "id": "69c8a641-8fa1-4e50-b6b4-a14a8e8f246c",
   "metadata": {},
   "source": [
    "### Python’s Basic Data Types\n",
    "\n",
    "- Integers (int): Whole numbers, positive or negative (e.g., 5, -10).\n",
    "- Floating-Point Numbers (float): Numbers with a decimal point (e.g., 3.14, -2.5).\n",
    "- Strings (str): Text data enclosed in single or double quotes (e.g., \"Hello\", 'Python').\n",
    "- Booleans (bool): Represents truth values, either True or False.\n",
    "- Writing Python code to assign values of different data types to variables.\n",
    "- Using the type() function to check a variable's data type."
   ]
  },
  {
   "cell_type": "code",
   "execution_count": 47,
   "id": "783048f6-f760-407e-9021-72ae291a05d4",
   "metadata": {},
   "outputs": [
    {
     "name": "stdout",
     "output_type": "stream",
     "text": [
      "<class 'int'>\n",
      "<class 'float'>\n",
      "<class 'str'>\n",
      "<class 'bool'>\n"
     ]
    }
   ],
   "source": [
    "age = 25\n",
    "height = 5.9\n",
    "name = \"Alice\"\n",
    "is_student = False\n",
    "\n",
    "print(type(age))       # Output: <class 'int'>\n",
    "print(type(height))    # Output: <class 'float'>\n",
    "print(type(name))      # Output: <class 'str'>\n",
    "print(type(is_student))  # Output: <class 'bool'>"
   ]
  },
  {
   "cell_type": "markdown",
   "id": "4b042db2-1cba-4ea2-a2ce-f541e9b180da",
   "metadata": {},
   "source": [
    "### Basic arithmetic operators in Python:\n",
    "- Addition (+): Adds two numbers.\n",
    "- Subtraction (-): Subtracts the second number from the first.\n",
    "- Multiplication (*): Multiplies two numbers.\n",
    "- Division (/): Divides the first number by the second and returns a float.\n",
    "- Floor Division (//): Divides the first number by the second and returns an integer.\n",
    "- Modulus (%): Returns the remainder when the first number is divided by the second.\n",
    "- Exponentiation (**): Raises the first number to the power of the second."
   ]
  },
  {
   "cell_type": "code",
   "execution_count": 48,
   "id": "6a77ea53-2f1a-4ce4-a546-7d3c05f81852",
   "metadata": {},
   "outputs": [
    {
     "name": "stdout",
     "output_type": "stream",
     "text": [
      "13\n",
      "7\n",
      "30\n",
      "3.3333333333333335\n",
      "3\n",
      "1\n",
      "1000\n"
     ]
    }
   ],
   "source": [
    "x = 10\n",
    "y = 3\n",
    "\n",
    "print(x + y)    # Addition: 13\n",
    "print(x - y)    # Subtraction: 7\n",
    "print(x * y)    # Multiplication: 30\n",
    "print(x / y)    # Division: 3.3333333333333335\n",
    "print(x // y)   # Floor Division: 3\n",
    "print(x % y)    # Modulus: 1\n",
    "print(x ** y)   # Exponentiation: 1000"
   ]
  },
  {
   "cell_type": "markdown",
   "id": "4e6afbbd-465b-46cb-8d7a-1111f6ab976a",
   "metadata": {},
   "source": [
    "### String Basics\n",
    "\n",
    "Creating strings using single or double quotes.\n",
    "Multi-line strings using triple quotes.\n",
    "String Operations\n",
    "\n",
    "Concatenation using +.\n",
    "Repetition using *.\n",
    "Accessing characters and slicing.\n",
    "Common String Methods\n",
    "\n",
    "- .upper(): Converts a string to uppercase.\n",
    "- .lower(): Converts a string to lowercase.\n",
    "- .replace(old, new): Replaces a substring.\n",
    "- .strip(): Removes leading and trailing whitespace."
   ]
  },
  {
   "cell_type": "code",
   "execution_count": 51,
   "id": "9814ec4d-af59-4d2b-a3e9-0363245555b3",
   "metadata": {},
   "outputs": [
    {
     "name": "stdout",
     "output_type": "stream",
     "text": [
      "HELLO, WORLD!     \n",
      "hello, world!     \n",
      "Hello, Python!     \n",
      "Hello, World!\n"
     ]
    },
    {
     "data": {
      "text/plain": [
       "'Hello, World!     Hello, World!     '"
      ]
     },
     "execution_count": 51,
     "metadata": {},
     "output_type": "execute_result"
    }
   ],
   "source": [
    "greeting = \"Hello, World!     \"\n",
    "\n",
    "print(greeting.upper())       # HELLO, WORLD!\n",
    "print(greeting.lower())       # hello, world!\n",
    "print(greeting.replace(\"World\", \"Python\"))  # Hello, Python!\n",
    "print(greeting.strip())       # Hello, World!\n",
    "greeting + greeting"
   ]
  },
  {
   "cell_type": "markdown",
   "id": "42f73d7e-45d1-47a7-9408-01f30d9af399",
   "metadata": {},
   "source": [
    "### Comparison Operators\n",
    "\n",
    "- Equal (==): Checks if two values are equal.\n",
    "- Not Equal (!=): Checks if two values are not equal.\n",
    "- Greater Than (>): Checks if the first value is greater than the second.\n",
    "- Less Than (<): Checks if the first value is less than the second.\n",
    "- Greater Than or Equal To (>=): Checks if the first value is greater than or equal to the second.\n",
    "- Less Than or Equal To (<=): Checks if the first value is less than or equal to the second.\n",
    "- Logical Operators\n",
    "\n",
    "- and: Returns True if both conditions are True.\n",
    "- or: Returns True if at least one condition is True.\n",
    "- not: Inverts the truth value."
   ]
  },
  {
   "cell_type": "code",
   "execution_count": 52,
   "id": "e2086af8-5709-47a5-8446-d76d514fdc52",
   "metadata": {},
   "outputs": [
    {
     "name": "stdout",
     "output_type": "stream",
     "text": [
      "False\n",
      "True\n",
      "True\n",
      "True\n"
     ]
    }
   ],
   "source": [
    "a = 5\n",
    "b = 10\n",
    "\n",
    "print(a == b)          # False\n",
    "print(a < b)           # True\n",
    "print(a > 0 and b > 0) # True\n",
    "print(not (a == b))    # True\n"
   ]
  },
  {
   "cell_type": "code",
   "execution_count": 53,
   "id": "606bc039-49f6-4ee4-aa19-f35cf3a1c59a",
   "metadata": {},
   "outputs": [
    {
     "name": "stdin",
     "output_type": "stream",
     "text": [
      "Enter the first number:  3939\n",
      "Enter the second number:  834482392\n",
      "Enter an operator (+, -, *, /):  *\n"
     ]
    },
    {
     "name": "stdout",
     "output_type": "stream",
     "text": [
      "Result: 3287026142088.0\n"
     ]
    }
   ],
   "source": [
    "# Simple Calculator\n",
    "num1 = float(input(\"Enter the first number: \"))\n",
    "num2 = float(input(\"Enter the second number: \"))\n",
    "operator = input(\"Enter an operator (+, -, *, /): \")\n",
    "\n",
    "if operator == '+':\n",
    "    result = num1 + num2\n",
    "elif operator == '-':\n",
    "    result = num1 - num2\n",
    "elif operator == '*':\n",
    "    result = num1 * num2\n",
    "elif operator == '/':\n",
    "    if num2 != 0:\n",
    "        result = num1 / num2\n",
    "    else:\n",
    "        result = \"Error: Division by zero is undefined\"\n",
    "else:\n",
    "    result = \"Invalid operator!\"\n",
    "\n",
    "print(\"Result:\", result)\n"
   ]
  },
  {
   "cell_type": "code",
   "execution_count": null,
   "id": "3f702009-b4b0-4cab-835a-ad1eca4b687c",
   "metadata": {},
   "outputs": [],
   "source": []
  },
  {
   "cell_type": "markdown",
   "id": "06e34a17-fc0a-4651-abd7-094552a60fda",
   "metadata": {},
   "source": [
    "## Key words in Python"
   ]
  },
  {
   "cell_type": "markdown",
   "id": "158ce6ac-60d2-40a9-96ad-75b16272b3d6",
   "metadata": {},
   "source": [
    "and\tA logical operator\n",
    "as\tTo create an alias\n",
    "assert\tFor debugging\n",
    "break\tTo break out of a loop\n",
    "class\tTo define a class\n",
    "continue\tTo continue to the next iteration of a loop\n",
    "def\tTo define a function\n",
    "del\tTo delete an object\n",
    "elif\tUsed in conditional statements, same as else if\n",
    "else\tUsed in conditional statements\n",
    "except\tUsed with exceptions, what to do when an exception occurs\n",
    "False\tBoolean value, result of comparison operations\n",
    "finally\tUsed with exceptions, a block of code that will be executed no matter if there is an exception or not\n",
    "for\tTo create a for loop\n",
    "from\tTo import specific parts of a module\n",
    "global\tTo declare a global variable\n",
    "if\tTo make a conditional statement\n",
    "import\tTo import a module\n",
    "in\tTo check if a value is present in a list, tuple, etc.\n",
    "is\tTo test if two variables are equal\n",
    "lambda\tTo create an anonymous function\n",
    "None\tRepresents a null value\n",
    "nonlocal\tTo declare a non-local variable\n",
    "not\tA logical operator\n",
    "or\tA logical operator\n",
    "pass\tA null statement, a statement that will do nothing\n",
    "raise\tTo raise an exception\n",
    "return\tTo exit a function and return a value\n",
    "True\tBoolean value, result of comparison operations\n",
    "try\tTo make a try...except statement\n",
    "while\tTo create a while loop\n",
    "with\tUsed to simplify exception handling\n",
    "yield\tTo return a list of values from a generator"
   ]
  },
  {
   "cell_type": "code",
   "execution_count": 56,
   "id": "af553e61-40f6-45ee-82ad-bd1c050fa3a7",
   "metadata": {},
   "outputs": [
    {
     "name": "stdin",
     "output_type": "stream",
     "text": [
      "Which number do you want to check?  3333\n"
     ]
    },
    {
     "name": "stdout",
     "output_type": "stream",
     "text": [
      "3333 is an odd number.\n"
     ]
    }
   ],
   "source": [
    "# odd even checker\n",
    "number = int(input(\"Which number do you want to check? \"))\n",
    "\n",
    "if number % 2 == 0:\n",
    "  print(f\"{number} is an even number.\")\n",
    "else:\n",
    "  print(f\"{number} is an odd number.\")"
   ]
  },
  {
   "cell_type": "markdown",
   "id": "3f513044-fe13-457d-b9ed-676d3e91ff65",
   "metadata": {},
   "source": [
    "### Focused Course: Lists, Tuples, Dictionaries, and Sets in Python\n",
    "#### Lists [ ]\n",
    "Lists are mutable, ordered collections that can hold elements of any type.\n",
    "They’re used frequently to store items that need to be modified, accessed by index, or iterated over."
   ]
  },
  {
   "cell_type": "code",
   "execution_count": 57,
   "id": "52a251bc-a271-4863-8447-b7d42062738c",
   "metadata": {},
   "outputs": [
    {
     "data": {
      "text/plain": [
       "3.142"
      ]
     },
     "execution_count": 57,
     "metadata": {},
     "output_type": "execute_result"
    }
   ],
   "source": [
    "my_list = [1, 2, 3, \"apple\", \"banana\", 3.142]\n",
    "first_item = my_list[5]  # Output: 1\n",
    "first_item"
   ]
  },
  {
   "cell_type": "code",
   "execution_count": 58,
   "id": "942fdeb0-051b-400b-97f2-8afb56fb4473",
   "metadata": {},
   "outputs": [
    {
     "data": {
      "text/plain": [
       "[1, 'grape', 2, 'cherry', 'apple', 'banana', 3.142, 'orange']"
      ]
     },
     "execution_count": 58,
     "metadata": {},
     "output_type": "execute_result"
    }
   ],
   "source": [
    "# modifying lists\n",
    "my_list[2] = \"cherry\"\n",
    "my_list.append(\"orange\")       # Adds \"orange\" to the end\n",
    "my_list.insert(1, \"grape\")     # Inserts \"grape\" at index 1\n",
    "my_list"
   ]
  },
  {
   "cell_type": "code",
   "execution_count": 59,
   "id": "1bd6c197-5832-467c-b5ac-85122e26bcd1",
   "metadata": {},
   "outputs": [
    {
     "data": {
      "text/plain": [
       "[1, 'grape', 2, 'cherry', 'banana', 3.142]"
      ]
     },
     "execution_count": 59,
     "metadata": {},
     "output_type": "execute_result"
    }
   ],
   "source": [
    "my_list.remove(\"apple\")  # Removes first occurrence of \"apple\"\n",
    "my_list.pop(-1)           # Removes element at index 1\n",
    "my_list"
   ]
  },
  {
   "cell_type": "code",
   "execution_count": null,
   "id": "cf2e9806-6959-414b-ad41-ff80940a20b1",
   "metadata": {},
   "outputs": [],
   "source": [
    "len(my_list)          # Length of the list\n",
    "my_list.sort()        # Sorts the list (only works if all items are comparable)\n",
    "my_list.reverse()     # Reverses the list\n"
   ]
  },
  {
   "cell_type": "markdown",
   "id": "7f865af9-fd6a-47c5-b743-be48dd23e148",
   "metadata": {},
   "source": [
    "#### Tuples ( )\n",
    "\n",
    "Tuples are immutable, ordered collections used for storing fixed sets of data.\n",
    "They are often used when data should not change throughout the program."
   ]
  },
  {
   "cell_type": "code",
   "execution_count": 60,
   "id": "82620a4b-e689-431d-b48c-1fd5a5be260e",
   "metadata": {},
   "outputs": [
    {
     "data": {
      "text/plain": [
       "1"
      ]
     },
     "execution_count": 60,
     "metadata": {},
     "output_type": "execute_result"
    }
   ],
   "source": [
    "my_tuple = (1, 2, 3,3, \"apple\", \"banana\")\n",
    "first_item = my_tuple[3]  \n",
    "a, b, c = (1, 2, 3) #Tuple Unpacking\n",
    "a"
   ]
  },
  {
   "cell_type": "code",
   "execution_count": 62,
   "id": "ba1b5cf0-522a-4759-8af9-5373ec300734",
   "metadata": {},
   "outputs": [
    {
     "data": {
      "text/plain": [
       "5"
      ]
     },
     "execution_count": 62,
     "metadata": {},
     "output_type": "execute_result"
    }
   ],
   "source": [
    "my_tuple.count(3)  # Counts occurrences of 3\n",
    "my_tuple.index(\"banana\")  # Finds index of \"banana\"\n"
   ]
  },
  {
   "cell_type": "code",
   "execution_count": 25,
   "id": "874e34e4-d9f9-4bd9-8d92-23f36815138e",
   "metadata": {},
   "outputs": [
    {
     "name": "stdout",
     "output_type": "stream",
     "text": [
      "x: 10, y: 20\n"
     ]
    }
   ],
   "source": [
    "coordinates = (10, 20)\n",
    "x, y = coordinates\n",
    "print(f\"x: {x}, y: {y}\") \n"
   ]
  },
  {
   "cell_type": "markdown",
   "id": "de93ec55-1bbf-4954-9b2e-cb734fd507de",
   "metadata": {},
   "source": [
    "### Dictionaries\n",
    "Dictionaries store key-value pairs, allowing you to access values by unique keys.\n",
    "They are unordered and mutable, ideal for mapping data relationships."
   ]
  },
  {
   "cell_type": "code",
   "execution_count": 64,
   "id": "754751f2-30cb-4575-aae0-ace006709af6",
   "metadata": {},
   "outputs": [],
   "source": [
    "my_dict = {\"name\": \"Alice\", \"age\": 25, \"city\": \"New York\"}\n"
   ]
  },
  {
   "cell_type": "code",
   "execution_count": 66,
   "id": "cd96165a-d3f8-4e9b-8327-f7b0afd3b935",
   "metadata": {},
   "outputs": [
    {
     "data": {
      "text/plain": [
       "{'name': 'Alice', 'age': 26, 'country': 'USA'}"
      ]
     },
     "execution_count": 66,
     "metadata": {},
     "output_type": "execute_result"
    }
   ],
   "source": [
    "name = my_dict[\"city\"]  # Output: Alice\n",
    "my_dict[\"age\"] = 26     # Update age to 26\n",
    "my_dict[\"country\"] = \"USA\"   # Add new key-value pair\n",
    "del my_dict[\"city\"]          # Remove \"city\" key\n",
    "my_dict\n"
   ]
  },
  {
   "cell_type": "code",
   "execution_count": 68,
   "id": "a19057e8-401c-4964-ac42-6c6c46ceec4f",
   "metadata": {},
   "outputs": [
    {
     "data": {
      "text/plain": [
       "dict_keys(['name', 'age', 'country'])"
      ]
     },
     "execution_count": 68,
     "metadata": {},
     "output_type": "execute_result"
    }
   ],
   "source": [
    "my_dict.keys()               # Returns all keys\n",
    "my_dict.values()             # Returns all values\n",
    "my_dict.items()              # Returns all key-value pairs\n"
   ]
  },
  {
   "cell_type": "markdown",
   "id": "be0495d8-46c4-4cbb-becb-c1a310eb49eb",
   "metadata": {},
   "source": [
    "### Sets { }\n",
    "Sets are unordered collections of unique elements, useful for membership testing and eliminating duplicates.\n",
    "They are mutable, but elements must be immutable."
   ]
  },
  {
   "cell_type": "code",
   "execution_count": 69,
   "id": "89a3d2b7-6723-4b4e-8be4-6c112aabc3e2",
   "metadata": {},
   "outputs": [
    {
     "data": {
      "text/plain": [
       "{1, 2, 3, 4, 'dude'}"
      ]
     },
     "execution_count": 69,
     "metadata": {},
     "output_type": "execute_result"
    }
   ],
   "source": [
    "my_set = {1, 2, 3, 3, 4, 4, 'dude', 'dude'}  # Duplicates are automatically removed\n",
    "my_set"
   ]
  },
  {
   "cell_type": "code",
   "execution_count": 71,
   "id": "ee2ea18c-4d1b-4429-a511-d7e1c61986c7",
   "metadata": {},
   "outputs": [
    {
     "data": {
      "text/plain": [
       "{0.1, 1, 2, 4, 5, 'abaca', 'dude'}"
      ]
     },
     "execution_count": 71,
     "metadata": {},
     "output_type": "execute_result"
    }
   ],
   "source": [
    "my_set.add(5)\n",
    "my_set.add('abaca')\n",
    "my_set.add(0.1)\n",
    "my_set.discard(3)\n",
    "my_set"
   ]
  },
  {
   "cell_type": "code",
   "execution_count": 35,
   "id": "6f0bcd78-725f-4b6d-98b9-e9deb497f2a1",
   "metadata": {},
   "outputs": [
    {
     "data": {
      "text/plain": [
       "{1, 2}"
      ]
     },
     "execution_count": 35,
     "metadata": {},
     "output_type": "execute_result"
    }
   ],
   "source": [
    "# Set Operations (Union, Intersection, Difference)\n",
    "set1 = {1, 2, 3}\n",
    "set2 = {3, 4, 5}\n",
    "\n",
    "union_set = set1 | set2                # {1, 2, 3, 4, 5}\n",
    "intersection_set = set1 & set2         # {3}\n",
    "difference_set = set1 - set2           # {1, 2}\n",
    "difference_set"
   ]
  },
  {
   "cell_type": "markdown",
   "id": "a1d0995d-fb9c-43c3-862b-59c7ca3e493e",
   "metadata": {},
   "source": [
    "# Functions in Python\n",
    "A function is a block of reusable code that performs a specific task. Functions help:\n",
    "\n",
    "Organize code into logical sections\n",
    "Make code reusable\n",
    "Improve readability and maintainability"
   ]
  },
  {
   "cell_type": "code",
   "execution_count": 36,
   "id": "6ecbf643-e212-46b5-8a1d-94797b53d77c",
   "metadata": {},
   "outputs": [
    {
     "name": "stdout",
     "output_type": "stream",
     "text": [
      "Hello, world!\n"
     ]
    }
   ],
   "source": [
    "def greet():\n",
    "    print(\"Hello, world!\")\n",
    "    \n",
    "# Calling the function\n",
    "greet()  # Output: Hello, world!\n",
    "\n"
   ]
  },
  {
   "cell_type": "markdown",
   "id": "aacf0749-33cc-45e6-bbc8-0d8ef5053d7e",
   "metadata": {},
   "source": [
    "#### Parameters and Arguments\n",
    "Functions can take parameters to make them more flexible. Parameters are variables defined in the function, and arguments are the values passed to them when the function is called."
   ]
  },
  {
   "cell_type": "code",
   "execution_count": 34,
   "id": "a8186148-299f-4a41-88a9-0118dc5c035b",
   "metadata": {},
   "outputs": [
    {
     "name": "stdout",
     "output_type": "stream",
     "text": [
      "Hello, aspiring can I call you Alice?\n"
     ]
    }
   ],
   "source": [
    "def greet_user(name):\n",
    "    print(f\"Hello, aspiring can I call you {name}?\")\n",
    "\n",
    "greet_user(\"Alice\")  # Output: Hello, Alice!\n"
   ]
  },
  {
   "cell_type": "markdown",
   "id": "e3182895-348f-415c-b2c5-a9c474f4f2df",
   "metadata": {},
   "source": [
    "#### Return Statement\n",
    "The return statement sends a result back from a function. It’s essential when you want to use the function’s result in other parts of your program."
   ]
  },
  {
   "cell_type": "code",
   "execution_count": 72,
   "id": "ac1da312-68da-4364-a55d-7826aba982d2",
   "metadata": {},
   "outputs": [
    {
     "name": "stdout",
     "output_type": "stream",
     "text": [
      "91\n"
     ]
    }
   ],
   "source": [
    "def add(a, b):\n",
    "    return a + b\n",
    "\n",
    "result = add(3, 88)\n",
    "print(result)  # Output: 8\n"
   ]
  },
  {
   "cell_type": "markdown",
   "id": "8395d089-543f-4abd-86ec-362c04d81693",
   "metadata": {},
   "source": [
    "### Types of Functions\n",
    "#### Functions with Default Parameters\n",
    "Default parameters allow you to set a default value for a parameter if no argument is provided."
   ]
  },
  {
   "cell_type": "code",
   "execution_count": 35,
   "id": "881cb5e5-d2c9-4b5e-9ddd-10c60650a306",
   "metadata": {},
   "outputs": [
    {
     "name": "stdout",
     "output_type": "stream",
     "text": [
      "Hello, Alice!\n",
      "Hello, Guest!\n"
     ]
    }
   ],
   "source": [
    "def greet_user(name=\"Guest\"):\n",
    "    print(f\"Hello, {name}!\")\n",
    "\n",
    "greet_user(\"Alice\")  # Output: Hello, Alice!\n",
    "greet_user()         # Output: Hello, Guest!\n"
   ]
  },
  {
   "cell_type": "markdown",
   "id": "e96306cf-c696-4705-a3b9-53f83968e6e7",
   "metadata": {},
   "source": [
    "#### with muliple parameters"
   ]
  },
  {
   "cell_type": "code",
   "execution_count": null,
   "id": "89a3e3bd-2d5c-470c-b6e3-111740fda1b9",
   "metadata": {},
   "outputs": [],
   "source": [
    "# with muliple parameters\n",
    "def calculate_area(length, width):\n",
    "    return length * width\n",
    "\n",
    "area = calculate_area(5, 3)\n",
    "print(area)  # Output: 15\n"
   ]
  },
  {
   "cell_type": "markdown",
   "id": "c3bc91d2-1b04-45e5-9944-a1593acfadb5",
   "metadata": {},
   "source": [
    "#### Keyword Arguments\n",
    "When calling a function, you can use keyword arguments to explicitly specify the value of a parameter. This improves readability and can help avoid mistakes in functions with multiple parameters."
   ]
  },
  {
   "cell_type": "code",
   "execution_count": null,
   "id": "8acdf170-b282-4c1d-9016-6e7e99e453fe",
   "metadata": {},
   "outputs": [],
   "source": [
    "def describe_pet(name, animal_type):\n",
    "    print(f\"{name} is a {animal_type}.\")\n",
    "\n",
    "describe_pet(animal_type=\"dog\", name=\"Buddy\")  # Output: Buddy is a dog.\n"
   ]
  },
  {
   "cell_type": "markdown",
   "id": "af782f93-32bd-4a03-931c-5875e3cdad59",
   "metadata": {},
   "source": [
    "#### Variable-Length Arguments\n",
    "*args (Positional variable-length arguments): Allows you to pass a variable number of positional arguments."
   ]
  },
  {
   "cell_type": "code",
   "execution_count": 36,
   "id": "9e4222df-c509-464d-be53-549c561aebda",
   "metadata": {},
   "outputs": [
    {
     "name": "stdout",
     "output_type": "stream",
     "text": [
      "10\n"
     ]
    }
   ],
   "source": [
    "def add_all(*numbers):\n",
    "    return sum(numbers)\n",
    "\n",
    "print(add_all(1, 2, 3, 4))  # Output: 10\n"
   ]
  },
  {
   "cell_type": "markdown",
   "id": "7149fa9e-97a7-450c-b24c-f5c39f953051",
   "metadata": {},
   "source": [
    "**kwargs (Keyword variable-length arguments): Allows you to pass a variable number of keyword arguments."
   ]
  },
  {
   "cell_type": "code",
   "execution_count": 38,
   "id": "6b6e7fea-0a3c-44c8-9d42-c31074b189e9",
   "metadata": {},
   "outputs": [
    {
     "name": "stdout",
     "output_type": "stream",
     "text": [
      "name: Alice\n",
      "age: 25\n",
      "city: New York\n"
     ]
    }
   ],
   "source": [
    "def display_info(**info):\n",
    "    for key, value in info.items():\n",
    "        print(f\"{key}: {value}\")\n",
    "\n",
    "display_info(name=\"Alice\", age=25, city=\"New York\")\n",
    "# Output:\n",
    "# name: Alice\n",
    "# age: 25\n",
    "# city: New York\n"
   ]
  },
  {
   "cell_type": "markdown",
   "id": "9416a666-2b12-4c1a-8d22-3b11429ae8bb",
   "metadata": {},
   "source": [
    "#### Lambda Functions\n",
    "Lambda functions are short, anonymous functions defined with the lambda keyword. They are often used for small, simple operations."
   ]
  },
  {
   "cell_type": "code",
   "execution_count": null,
   "id": "8115f627-9a11-478c-b476-029f02f11286",
   "metadata": {},
   "outputs": [],
   "source": [
    "lambda parameters: expression"
   ]
  },
  {
   "cell_type": "code",
   "execution_count": 39,
   "id": "3c12d54a-5ac3-4e9f-9555-2787436549db",
   "metadata": {},
   "outputs": [
    {
     "name": "stdout",
     "output_type": "stream",
     "text": [
      "5\n"
     ]
    }
   ],
   "source": [
    "# Regular function\n",
    "def add(x, y):\n",
    "    return x + y\n",
    "\n",
    "# Lambda function equivalent\n",
    "add = lambda x, y: x + y\n",
    "print(add(2, 3))  # Output: 5\n"
   ]
  },
  {
   "cell_type": "markdown",
   "id": "88962ed3-a444-47f2-8ed5-4fc4088f78ad",
   "metadata": {},
   "source": [
    "#### Scope and Lifetime of Variables\n",
    "- Local Variables: Defined within a function and accessible only inside that function.\n",
    "- Global Variables: Defined outside any function and accessible throughout the program. Use the global keyword to modify a global variable inside a function."
   ]
  },
  {
   "cell_type": "code",
   "execution_count": 43,
   "id": "3d563103-1040-47bd-a849-5a8272b3ca11",
   "metadata": {},
   "outputs": [],
   "source": [
    "x = 10  # Global variable\n",
    "\n",
    "def modify_x():\n",
    "    global x\n",
    "    x = 5\n",
    "\n",
    "modify_x()\n",
    "\n",
    "\n",
    "\n",
    "\n",
    "\n"
   ]
  },
  {
   "cell_type": "markdown",
   "id": "4c39cc0f-0e2b-4ebd-bae5-2ce2bdbbe049",
   "metadata": {},
   "source": [
    "# Remember to use docstring to explain the function of your function\n",
    "\n",
    "\n",
    "### Best Practices for Functions\n",
    "- Use meaningful names for functions that indicate their purpose.\n",
    "- Keep functions small and focused on a single task.\n",
    "- Use docstrings to explain the purpose of your function.\n",
    "- Avoid side effects (like modifying global variables), as they make functions harder to understand and debug.\n",
    "- Avoid repeating code by creating reusable functions whenever possible."
   ]
  },
  {
   "cell_type": "code",
   "execution_count": 42,
   "id": "a1a1a0f3-b387-44a6-b9b3-294f839fe08c",
   "metadata": {},
   "outputs": [],
   "source": [
    "def celsius_to_fahrenheit(celsius):\n",
    "    return (celsius * 9/5) + 32\n",
    "\n",
    "def fahrenheit_to_celsius(fahrenheit):\n",
    "    return (fahrenheit - 32) * 5/9\n",
    "\n",
    "def reverse_string(s):\n",
    "    return s[::-1]"
   ]
  },
  {
   "cell_type": "code",
   "execution_count": 43,
   "id": "44e6c87c-96fc-458e-9f1b-c0539ff54959",
   "metadata": {},
   "outputs": [
    {
     "data": {
      "text/plain": [
       "'leahciM'"
      ]
     },
     "execution_count": 43,
     "metadata": {},
     "output_type": "execute_result"
    }
   ],
   "source": [
    "reverse_string('Michael')"
   ]
  },
  {
   "cell_type": "code",
   "execution_count": 44,
   "id": "27a1214e-8383-4cbd-9a3f-ef451cb738e1",
   "metadata": {},
   "outputs": [],
   "source": [
    "def list_statistics(*numbers):\n",
    "    mean = sum(numbers) / len(numbers)\n",
    "    median = sorted(numbers)[len(numbers) // 2]\n",
    "    mode = max(set(numbers), key=numbers.count)\n",
    "    return mean, median, mode\n"
   ]
  },
  {
   "cell_type": "code",
   "execution_count": 45,
   "id": "51498e3b-cdfe-4669-afc6-44216677b619",
   "metadata": {},
   "outputs": [
    {
     "data": {
      "text/plain": [
       "(4.888888888888889, 5, 8)"
      ]
     },
     "execution_count": 45,
     "metadata": {},
     "output_type": "execute_result"
    }
   ],
   "source": [
    "list_statistics(1,2,3,4,5,6,7,8,8)"
   ]
  },
  {
   "cell_type": "code",
   "execution_count": 46,
   "id": "e1e37693-e383-4b05-a493-30cfb93671e6",
   "metadata": {},
   "outputs": [
    {
     "name": "stdout",
     "output_type": "stream",
     "text": [
      "welcome Harris\n"
     ]
    }
   ],
   "source": []
  },
  {
   "cell_type": "code",
   "execution_count": null,
   "id": "2c342d01-161f-413a-ac15-386c2a073d1e",
   "metadata": {},
   "outputs": [],
   "source": []
  }
 ],
 "metadata": {
  "kernelspec": {
   "display_name": "Python 3 (ipykernel)",
   "language": "python",
   "name": "python3"
  },
  "language_info": {
   "codemirror_mode": {
    "name": "ipython",
    "version": 3
   },
   "file_extension": ".py",
   "mimetype": "text/x-python",
   "name": "python",
   "nbconvert_exporter": "python",
   "pygments_lexer": "ipython3",
   "version": "3.11.7"
  }
 },
 "nbformat": 4,
 "nbformat_minor": 5
}
