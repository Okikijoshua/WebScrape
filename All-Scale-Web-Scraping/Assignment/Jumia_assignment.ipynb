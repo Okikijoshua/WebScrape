{
 "cells": [
  {
   "cell_type": "code",
   "execution_count": null,
   "metadata": {},
   "outputs": [],
   "source": [
    "pip install fake_useragent pandas"
   ]
  },
  {
   "cell_type": "code",
   "execution_count": null,
   "metadata": {},
   "outputs": [],
   "source": [
    "#import libries\n",
    "import requests\n",
    "from bs4 import BeautifulSoup\n",
    "from fake_useragent import UserAgent\n",
    "import pandas as pd\n"
   ]
  },
  {
   "cell_type": "code",
   "execution_count": null,
   "metadata": {},
   "outputs": [],
   "source": [
    "#confirm if we have access\n",
    "url = 'https://www.jumia.com.ng/apple/?q=laptop#catalog-listing'\n",
    "page = requests.get(url)\n",
    "page"
   ]
  },
  {
   "cell_type": "code",
   "execution_count": null,
   "metadata": {},
   "outputs": [],
   "source": [
    "#parse HTML\n",
    "url = 'https://www.jumia.com.ng/apple/?q=laptop#catalog-listing'\n",
    "page = requests.get(url)\n",
    "soup = BeautifulSoup(page.content, 'html.parser')\n",
    "soup"
   ]
  },
  {
   "cell_type": "code",
   "execution_count": null,
   "metadata": {},
   "outputs": [
    {
     "data": {
      "text/plain": [
       "40"
      ]
     },
     "execution_count": 7,
     "metadata": {},
     "output_type": "execute_result"
    }
   ],
   "source": [
    "#\n",
    "mac_laptop = soup.find_all('article', class_ ='prd _fb col c-prd')\n",
    "len(mac_laptop)"
   ]
  },
  {
   "cell_type": "code",
   "execution_count": null,
   "metadata": {},
   "outputs": [],
   "source": [
    "#\n",
    "mac_laptop = soup.find_all('article', class_ ='prd _fb col c-prd')\n",
    "mac_laptop"
   ]
  },
  {
   "cell_type": "code",
   "execution_count": null,
   "metadata": {},
   "outputs": [],
   "source": [
    "#Scrape our necessary data and save into a list\n",
    "mac_laptop = soup.find_all('article', class_ ='prd _fb col c-prd')\n",
    "\n",
    "names = []\n",
    "prices = []\n",
    "old_prices = []\n",
    "\n",
    "for mac in mac_laptop:\n",
    "\n",
    "    #Macbook Names\n",
    "    if mac.find('h3', class_ = \"name\") is not None:\n",
    "        name = mac.find('h3', class_ = \"name\")\n",
    "        names.append(name.text)\n",
    "    else:\n",
    "        names.append('None')\n",
    "\n",
    "    #Macbook Price\n",
    "    if mac.find('div', class_ = \"prc\") is not None:\n",
    "        price = mac.find('div', class_ = \"prc\")\n",
    "        prices.append(price.text)\n",
    "        \n",
    "    else:\n",
    "        prices.append('None')\n",
    "\n",
    "    #Macbook OldPrice\n",
    "    if mac.find('div', class_ = \"old\") is not None:\n",
    "        oldprice = mac.find('div', class_ = \"old\")\n",
    "        old_prices.append(oldprice.text)\n",
    "    else:\n",
    "        old_prices.append('None')"
   ]
  },
  {
   "cell_type": "code",
   "execution_count": null,
   "metadata": {},
   "outputs": [],
   "source": [
    "#Created a Dataframe to display all data in rows & columns\n",
    "mac_df = pd.DataFrame({\n",
    "    'Laptop Name': names,\n",
    "    'Current Price': prices,\n",
    "    'Old Price': old_prices\n",
    "})\n",
    "mac_df"
   ]
  },
  {
   "cell_type": "code",
   "execution_count": null,
   "metadata": {},
   "outputs": [],
   "source": [
    "#Export data to csv\n",
    "mac_df.to_csv('Macbook prices.csv')"
   ]
  }
 ],
 "metadata": {
  "kernelspec": {
   "display_name": "base",
   "language": "python",
   "name": "python3"
  },
  "language_info": {
   "codemirror_mode": {
    "name": "ipython",
    "version": 3
   },
   "file_extension": ".py",
   "mimetype": "text/x-python",
   "name": "python",
   "nbconvert_exporter": "python",
   "pygments_lexer": "ipython3",
   "version": "3.12.7"
  }
 },
 "nbformat": 4,
 "nbformat_minor": 2
}
